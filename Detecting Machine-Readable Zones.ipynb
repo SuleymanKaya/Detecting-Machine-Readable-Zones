{
 "cells": [
  {
   "cell_type": "code",
   "execution_count": 32,
   "metadata": {},
   "outputs": [],
   "source": [
    "# import the necessary packages\n",
    "import numpy as np\n",
    "import imutils\n",
    "import cv2"
   ]
  },
  {
   "cell_type": "code",
   "execution_count": 33,
   "metadata": {},
   "outputs": [],
   "source": [
    "# initialize a rectangular and square structuring kernel\n",
    "rectKernel = cv2.getStructuringElement(cv2.MORPH_RECT, (13, 5))\n",
    "sqKernel = cv2.getStructuringElement(cv2.MORPH_RECT, (21, 21))"
   ]
  },
  {
   "cell_type": "code",
   "execution_count": 34,
   "metadata": {},
   "outputs": [],
   "source": [
    "# load the image, resize it, and convert it to grayscale\n",
    "image3 = cv2.imread(\"data_image.png\")\n",
    "image3 = imutils.resize(image3, height=600)\n",
    "gray1 = cv2.cvtColor(image3, cv2.COLOR_BGR2GRAY)\n",
    "    \n",
    "# smooth the image using a 3x3 Gaussian, then apply the blackhat morphological operator to find dark regions on a light background\n",
    "gray1 = cv2.GaussianBlur(gray1, (3, 3), 0)\n",
    "blackhat1 = cv2.morphologyEx(gray1, cv2.MORPH_BLACKHAT, rectKernel)"
   ]
  },
  {
   "cell_type": "code",
   "execution_count": 35,
   "metadata": {},
   "outputs": [],
   "source": [
    "# compute the Scharr gradient of the blackhat image and scale the result into the range [0, 255]\n",
    "gradX = cv2.Sobel(blackhat1, ddepth=cv2.CV_32F, dx=1, dy=0, ksize=-1)\n",
    "gradX = np.absolute(gradX)\n",
    "(minVal, maxVal) = (np.min(gradX), np.max(gradX))\n",
    "gradX = (255 * ((gradX - minVal) / (maxVal - minVal))).astype(\"uint8\")"
   ]
  },
  {
   "cell_type": "code",
   "execution_count": 36,
   "metadata": {},
   "outputs": [],
   "source": [
    "# apply a closing operation using the rectangular kernel to close gaps in between letters -- then apply Otsu's thresholding method\n",
    "gradX = cv2.morphologyEx(gradX, cv2.MORPH_CLOSE, rectKernel)\n",
    "thresh = cv2.threshold(gradX, 0, 255, cv2.THRESH_BINARY | cv2.THRESH_OTSU)[1]"
   ]
  },
  {
   "cell_type": "code",
   "execution_count": 37,
   "metadata": {},
   "outputs": [],
   "source": [
    "\"\"\"\n",
    "perform another closing operation, this time using the square kernel to close gaps between lines of the MRZ, \n",
    "then perform a series of erosions to break apart connected components\n",
    "\"\"\"\n",
    "thresh = cv2.morphologyEx(thresh, cv2.MORPH_CLOSE, sqKernel)\n",
    "thresh = cv2.erode(thresh, None, iterations=4)"
   ]
  },
  {
   "cell_type": "code",
   "execution_count": 38,
   "metadata": {},
   "outputs": [],
   "source": [
    "\"\"\"\n",
    "during thresholding, it's possible that border pixels were included in the thresholding, \n",
    "so let's set 5% of the left and right borders to zero\"\"\"\n",
    "p = int(image3.shape[1] * 0.05)\n",
    "thresh[:, 0:p] = 0\n",
    "thresh[:, image3.shape[1] - p:] = 0\n",
    "\n",
    "#Show New Image\n",
    "cv2.imshow(\"Resim\", thresh)\n",
    "cv2.waitKey(0) \n",
    "cv2.destroyAllWindows()"
   ]
  },
  {
   "cell_type": "code",
   "execution_count": 39,
   "metadata": {},
   "outputs": [],
   "source": [
    "# find contours in the thresholded image and sort them by their size\n",
    "cnts = cv2.findContours(thresh.copy(), cv2.RETR_EXTERNAL, cv2.CHAIN_APPROX_SIMPLE)\n",
    "cnts = imutils.grab_contours(cnts)\n",
    "cnts = sorted(cnts, key=cv2.contourArea, reverse=True)"
   ]
  },
  {
   "cell_type": "code",
   "execution_count": 40,
   "metadata": {},
   "outputs": [],
   "source": [
    "# loop over the contours\n",
    "for c in cnts:\n",
    "    \"\"\" \n",
    "    compute the bounding box of the contour and use the contour to compute the aspect ratio \n",
    "    and coverage ratio of the bounding box width to the width of the image\n",
    "    \"\"\"\n",
    "    (x, y, w, h) = cv2.boundingRect(c)\n",
    "    ar = w / float(h)\n",
    "    crWidth = w / float(gray1.shape[1])\n",
    "    \n",
    "    # check to see if the aspect ratio and coverage width are within acceptable criteria\n",
    "    if ar > 5 and crWidth > 0.75:\n",
    "        # pad the bounding box since we applied erosions and now need to re-grow it\n",
    "        pX = int((x + w) * 0.03)\n",
    "        pY = int((y + h) * 0.03)\n",
    "        (x, y) = (x - pX, y - pY)\n",
    "        (w, h) = (w + (pX * 2), h + (pY * 2))\n",
    "        \n",
    "        # extract the ROI from the image and draw a bounding box surrounding the MRZ\n",
    "        roi = image3[y:y + h, x:x + w].copy()\n",
    "        cv2.rectangle(image3, (x, y), (x + w, y + h), (0, 255, 0), 2)\n",
    "        break\n",
    "\n",
    "roi = image3[y:y + h, x:x + w].copy()"
   ]
  },
  {
   "cell_type": "code",
   "execution_count": 41,
   "metadata": {},
   "outputs": [],
   "source": [
    "# show the output images\n",
    "cv2.imshow(\"Resim Son\", image3)\n",
    "cv2.imshow(\"Machine Readable Zones\", roi)\n",
    "cv2.waitKey(0) \n",
    "cv2.destroyAllWindows() "
   ]
  },
  {
   "cell_type": "code",
   "execution_count": null,
   "metadata": {},
   "outputs": [],
   "source": []
  }
 ],
 "metadata": {
  "kernelspec": {
   "display_name": "Python 3",
   "language": "python",
   "name": "python3"
  },
  "language_info": {
   "codemirror_mode": {
    "name": "ipython",
    "version": 3
   },
   "file_extension": ".py",
   "mimetype": "text/x-python",
   "name": "python",
   "nbconvert_exporter": "python",
   "pygments_lexer": "ipython3",
   "version": "3.7.0"
  }
 },
 "nbformat": 4,
 "nbformat_minor": 2
}
